{
 "cells": [
  {
   "cell_type": "code",
   "execution_count": 339,
   "id": "f07ca5eb-6221-49cc-8b60-b5f5948010fd",
   "metadata": {},
   "outputs": [],
   "source": [
    "from scipy.special import comb, perm"
   ]
  },
  {
   "cell_type": "code",
   "execution_count": 48,
   "id": "d5bfb73c-a0ff-4102-8755-6247484883b5",
   "metadata": {},
   "outputs": [],
   "source": [
    "def prob(L, n):\n",
    "    res = 1\n",
    "    for i in range(n):\n",
    "        res *= (L-i)/L\n",
    "    return res"
   ]
  },
  {
   "cell_type": "code",
   "execution_count": 52,
   "id": "1ca0fcb3-246d-4e4c-84ad-21c771debd58",
   "metadata": {},
   "outputs": [
    {
     "data": {
      "text/plain": [
       "0.9257189444985188"
      ]
     },
     "execution_count": 52,
     "metadata": {},
     "output_type": "execute_result"
    }
   ],
   "source": [
    "prob(3000,22)"
   ]
  },
  {
   "cell_type": "code",
   "execution_count": 340,
   "id": "5a0f40ee-6b9e-4006-b919-02d936124b93",
   "metadata": {},
   "outputs": [],
   "source": [
    "def prob(k, L, n):\n",
    "    return comb(n, k)*perm(L, n-k)/L**n"
   ]
  },
  {
   "cell_type": "code",
   "execution_count": 358,
   "id": "e43b335d-e2bb-478a-9f75-d14f97327a41",
   "metadata": {},
   "outputs": [
    {
     "data": {
      "text/plain": [
       "0.9322446570982068"
      ]
     },
     "execution_count": 358,
     "metadata": {},
     "output_type": "execute_result"
    }
   ],
   "source": [
    "prob(0, 3000, 21)"
   ]
  },
  {
   "cell_type": "code",
   "execution_count": 354,
   "id": "7a6be728-2e19-4c9d-a345-fac77d6bc201",
   "metadata": {},
   "outputs": [
    {
     "data": {
      "text/plain": [
       "[0.990034950024,\n",
       " 0.00497005497,\n",
       " 9.97002e-06,\n",
       " 9.99e-09,\n",
       " 5e-12,\n",
       " 1e-15,\n",
       " 0.0,\n",
       " 0.0,\n",
       " 0.0,\n",
       " 0.0,\n",
       " 0.0,\n",
       " 0.0,\n",
       " 0.0,\n",
       " 0.0,\n",
       " 0.0,\n",
       " 0.0,\n",
       " 0.0,\n",
       " 0.0,\n",
       " 0.0,\n",
       " 0.0]"
      ]
     },
     "execution_count": 354,
     "metadata": {},
     "output_type": "execute_result"
    }
   ],
   "source": [
    "[prob(i, 1000, 5) for i in range(20)]"
   ]
  },
  {
   "cell_type": "code",
   "execution_count": 353,
   "id": "899e3690-b46c-4224-8008-d2744ed4c40d",
   "metadata": {},
   "outputs": [
    {
     "data": {
      "text/plain": [
       "0.995014985009001"
      ]
     },
     "execution_count": 353,
     "metadata": {},
     "output_type": "execute_result"
    }
   ],
   "source": [
    "np.sum([prob(i, 1000, 5) for i in range(25)])"
   ]
  },
  {
   "cell_type": "code",
   "execution_count": 304,
   "id": "9535a961-8ab7-49c7-8595-e0444d56d785",
   "metadata": {},
   "outputs": [],
   "source": [
    "L, n = 3000, 22\n",
    "k=0"
   ]
  },
  {
   "cell_type": "code",
   "execution_count": 307,
   "id": "82ddf983-8e71-4dc9-b621-95e812aa8e9f",
   "metadata": {},
   "outputs": [
    {
     "data": {
      "text/plain": [
       "1.0"
      ]
     },
     "execution_count": 307,
     "metadata": {},
     "output_type": "execute_result"
    }
   ],
   "source": [
    "comb(L, k)"
   ]
  },
  {
   "cell_type": "code",
   "execution_count": 311,
   "id": "b12722ac-619d-46b3-ab7f-28ee25a2a275",
   "metadata": {},
   "outputs": [
    {
     "data": {
      "text/plain": [
       "22"
      ]
     },
     "execution_count": 311,
     "metadata": {},
     "output_type": "execute_result"
    }
   ],
   "source": [
    "len([i/n for i in range(L-n+k+1, L+1)])"
   ]
  },
  {
   "cell_type": "code",
   "execution_count": null,
   "id": "0649c6b0-10cd-4258-895e-bacf3b1b0900",
   "metadata": {},
   "outputs": [],
   "source": []
  },
  {
   "cell_type": "code",
   "execution_count": null,
   "id": "3b25e4fb-38c6-4ac8-b7b5-2f0fb3062906",
   "metadata": {},
   "outputs": [],
   "source": []
  },
  {
   "cell_type": "code",
   "execution_count": null,
   "id": "40e70f83-c6d1-4449-a598-d1459c634aae",
   "metadata": {},
   "outputs": [],
   "source": []
  },
  {
   "cell_type": "code",
   "execution_count": 55,
   "id": "56316ef9-98ec-400b-a8f9-c391b78eb679",
   "metadata": {},
   "outputs": [
    {
     "name": "stderr",
     "output_type": "stream",
     "text": [
      "WARNING (pytensor.tensor.blas): Using NumPy C-API based implementation for BLAS functions.\n"
     ]
    }
   ],
   "source": [
    "import scPhyloX as spx\n",
    "from scipy.integrate import solve_ivp\n",
    "import numpy as np\n",
    "import matplotlib.pyplot as plt\n",
    "from matplotlib.gridspec import GridSpec\n",
    "import matplotlib.lines as mlines\n",
    "from scipy.stats import poisson"
   ]
  },
  {
   "cell_type": "code",
   "execution_count": 194,
   "id": "a1dbb58e-a6e3-4352-98b5-bce28ac58792",
   "metadata": {
    "tags": []
   },
   "outputs": [
    {
     "data": {
      "image/png": "[encoded data removed]",
      "text/plain": [
       "<Figure size 320x300 with 1 Axes>"
      ]
     },
     "metadata": {},
     "output_type": "display_data"
    }
   ],
   "source": [
    "r, a, s, u = (0.4, 0.6, 0.2, 1e-2)\n",
    "K = 35\n",
    "x0 = [200, 0]\n",
    "s1 = -0.1\n",
    "t1 = 25\n",
    "fig, ax = plt.subplots(1, 1, figsize=(3.2, 3))\n",
    "\n",
    "sol = solve_ivp(spx.est_tumor.cellnumber, t_span=(0, t1), y0=x0, \n",
    "                method='RK45', t_eval=np.linspace(0, t1, 50), args=(r, a, s, u))\n",
    "ax.plot(sol.t, sol.y[0], label='NC', c='#9098d9', lw=4)\n",
    "ax.plot(sol.t, sol.y[1], label='AC', c='#ed9e44', lw=4)\n",
    "x0 = sol.y[:, -1]\n",
    "\n",
    "sol1 = solve_ivp(spx.est_tumor.cellnumber, t_span=(0, K-t1+1), y0=x0, \n",
    "                method='RK45', t_eval=np.linspace(0, K-t1, 50), args=(r, a, s1, u))\n",
    "\n",
    "\n",
    "ax.plot(sol1.t+t1, sol1.y[0], c='#9098d9', lw=4)\n",
    "ax.plot(sol1.t+t1, sol1.y[1], c='#ed9e44', lw=4)\n",
    "ax.legend()\n",
    "ax.set_xlabel('Time')\n",
    "ax.set_ylabel('Cell number')\n",
    "\n",
    "plt.tight_layout()"
   ]
  },
  {
   "cell_type": "code",
   "execution_count": 146,
   "id": "aa5661b7-917a-420f-95ce-c44ae8afad06",
   "metadata": {},
   "outputs": [],
   "source": [
    "sol_t = np.concatenate((sol.t, sol1.t+t1))\n",
    "sol_y = np.concatenate((sol.y, sol1.y), axis=1)"
   ]
  },
  {
   "cell_type": "code",
   "execution_count": 147,
   "id": "b588e608-d049-465d-97f9-67c7f8482407",
   "metadata": {},
   "outputs": [
    {
     "data": {
      "image/png": "[encoded data removed]",
      "text/plain": [
       "<Figure size 320x300 with 1 Axes>"
      ]
     },
     "metadata": {},
     "output_type": "display_data"
    }
   ],
   "source": [
    "\n",
    "fig, ax = plt.subplots(1, 1, figsize=(3.2, 3))\n",
    "\n",
    "\n",
    "ax.plot(sol_t, sol_y[0], label='NC', c='#9098d9', lw=4)\n",
    "ax.plot(sol_t, sol_y[1], label='AC', c='#ed9e44', lw=4)\n",
    "ax.legend()\n",
    "ax.set_xlabel('Time')\n",
    "ax.set_ylabel('Cell number')\n",
    "\n",
    "plt.tight_layout()"
   ]
  },
  {
   "cell_type": "code",
   "execution_count": 121,
   "id": "3c643319-2f55-45c1-b48d-e366079c49ae",
   "metadata": {},
   "outputs": [],
   "source": [
    "\n",
    "def simulation(x0, max_t, mut_rate, r, a, s, s1, u):\n",
    "    num_elements = 2\n",
    "    system = spx.sim_tumor.System(num_elements, inits = x0, max_t = max_t, mut_rate = mut_rate)\n",
    "    \n",
    "    birth_n = lambda t: r*a\n",
    "    birth_a = lambda t: r*(a+s)*(t<t1)+r*(a+s1)*(t>=t1)\n",
    "    diff = lambda t: r*u\n",
    "    death_n = lambda t: r*(1-a-u)\n",
    "    death_a = lambda t: r*(1-a-s)*(t<t1)+r*(1-a-s1)*(t>=t1)\n",
    "\n",
    "    system.add_reaction(birth_n, [1, 0], [2, 0], 1)\n",
    "    system.add_reaction(birth_a, [0, 1], [0, 2], 2)\n",
    "    system.add_reaction(diff, [1, 0], [0, 1], 3)\n",
    "    system.add_reaction(death_n, [1, 0], [0, 0], 4)\n",
    "    system.add_reaction(death_a, [0, 1], [0, 0], 5)\n",
    "    system.evolute(200000000)\n",
    "    return system "
   ]
  },
  {
   "cell_type": "code",
   "execution_count": 164,
   "id": "b45e7249-f686-4ce7-a1e2-79e284f9770c",
   "metadata": {},
   "outputs": [
    {
     "name": "stdout",
     "output_type": "stream",
     "text": [
      "cell_num:5857, time:35.000164941568226564"
     ]
    }
   ],
   "source": [
    "mu = 2\n",
    "K = 35\n",
    "x0 = [200, 0]\n",
    "r, a, s, u = (0.4, 0.6, 0.2, 1e-2)\n",
    "system = simulation(x0, K, mu, r, a, s, s1, u)"
   ]
  },
  {
   "cell_type": "code",
   "execution_count": 193,
   "id": "e03b783b-eb45-420e-b640-39952aa1861d",
   "metadata": {},
   "outputs": [],
   "source": []
  },
  {
   "cell_type": "code",
   "execution_count": null,
   "id": "6161fd41-437d-4266-9b1b-2eeef296de6a",
   "metadata": {},
   "outputs": [],
   "source": []
  },
  {
   "cell_type": "code",
   "execution_count": 165,
   "id": "7d34f90c-6332-49ca-bb99-68d995320eba",
   "metadata": {},
   "outputs": [],
   "source": [
    "time = system.t\n",
    "cell_number = np.array(system.n)"
   ]
  },
  {
   "cell_type": "code",
   "execution_count": 166,
   "id": "8b58a31d-32e1-4dfe-a80b-59297cfe05b6",
   "metadata": {},
   "outputs": [
    {
     "data": {
      "text/plain": [
       "Text(0, 0.5, 'Cell number')"
      ]
     },
     "execution_count": 166,
     "metadata": {},
     "output_type": "execute_result"
    },
    {
     "data": {
      "image/png": "[encoded data removed]",
      "text/plain": [
       "<Figure size 380x320 with 1 Axes>"
      ]
     },
     "metadata": {},
     "output_type": "display_data"
    }
   ],
   "source": [
    "# cell_number = np.array(system.n)\n",
    "fig, ax = plt.subplots(figsize=(3.8, 3.2))\n",
    "show_tp = np.arange(0, len(time),1000)\n",
    "ax.plot(np.array(time)[np.arange(0, len(time),1000)], cell_number[np.arange(0, len(time),1000), 0], '--', lw=3, label='Neutral\\nsimulated', c='#9098d9')\n",
    "ax.plot(np.array(time)[np.arange(0, len(time),1000)], cell_number[np.arange(0, len(time),1000), 1], '--', lw=3, label='Advantageous\\nsimulated', c='#ed9e44', alpha=0.7)\n",
    "ax.plot(sol_t, sol_y[0], label='Neutral', c='#9098d9', lw=6, alpha=0.4)\n",
    "ax.plot(sol_t, sol_y[1], label='Advantageous', c='#ed9e44', lw=6, alpha=0.4)\n",
    "ax.legend(loc=2, fontsize=10)\n",
    "ax.ticklabel_format (style='sci', scilimits= (-1,2), axis='y')\n",
    "ax.spines['right'].set_visible(False)\n",
    "ax.spines['top'].set_visible(False)\n",
    "ax.set_xlabel('Time')\n",
    "ax.set_ylabel('Cell number')"
   ]
  },
  {
   "cell_type": "code",
   "execution_count": 191,
   "id": "ee2b7f06-ed11-43fc-a469-0498e5851e01",
   "metadata": {},
   "outputs": [],
   "source": [
    "import pickle\n",
    "import gzip\n",
    "data = {\n",
    "            'NC':system.Neutral, \n",
    "            'AC':system.Advantageous,\n",
    "            'cell_num':np.hstack([np.array(system.t).reshape(-1,1), np.array(system.n)]),\n",
    "        }\n",
    "pickle.dump(data, open(f'../datasets/treatment/treatment.pkl', 'wb'))"
   ]
  },
  {
   "cell_type": "code",
   "execution_count": 167,
   "id": "38b5cbad-7b08-4472-918c-4ce9f6d3bbd3",
   "metadata": {},
   "outputs": [],
   "source": [
    "seqtab = np.array([i.seq for i in system.Neutral] + [i.seq for i in system.Advantageous])\n",
    "seqtab = seqtab[np.random.choice(range(seqtab.shape[0]), 500, replace=False)]"
   ]
  },
  {
   "cell_type": "code",
   "execution_count": 168,
   "id": "10509ab5-0ef1-4814-88b7-88dd12dfcc87",
   "metadata": {},
   "outputs": [
    {
     "name": "stderr",
     "output_type": "stream",
     "text": [
      "100%|██████████| 125250/125250 [00:03<00:00, 37006.45it/s]\n"
     ]
    }
   ],
   "source": [
    "branch_len = spx.data_factory.get_branchlen(seqtab)\n",
    "mutnum = spx.data_factory.get_mutnum(seqtab)\n",
    "ge = spx.est_mr.GenerationEst(mutnum, 2)\n",
    "gen_num = ge.estimate(cell_number[-1].sum())"
   ]
  },
  {
   "cell_type": "code",
   "execution_count": 236,
   "id": "2c2e34b6-ce9b-43a0-8c3e-c66a5797b89b",
   "metadata": {},
   "outputs": [],
   "source": [
    "def p_xi(gen, T, x0, r, a, s, u, t1, s1):\n",
    "    '''\n",
    "    Probability density function of LR distance\n",
    "    Args:\n",
    "        gen:\n",
    "            generation\n",
    "        T: \n",
    "            total time\n",
    "        t1:\n",
    "            treatment time\n",
    "        s1:\n",
    "            selection after treatment\n",
    "        x0:\n",
    "            initial cell number\n",
    "        r, a, s, u: \n",
    "            parameters\n",
    "    Return:\n",
    "        np.array:\n",
    "            Probability density of LR distance at time T.\n",
    "    '''\n",
    "    sol_nc = np.array([spx.est_tumor.nc_sol(T, x0, i, r, a) for i in range(gen)])\n",
    "    sol_ac = solve_ivp(spx.est_tumor.cellnumber_ac, t_span=(0, T-t1), y0=[0]*gen, method='RK45', args=(x0, r, a, s, u)).y[:,-1]\n",
    "    sol_ac = solve_ivp(spx.est_tumor.cellnumber_ac, t_span=(0, t1), y0=sol_ac, method='RK45', args=(x0, r, a, s1, u)).y[:,-1]\n",
    "    cell_num = sol_nc+sol_ac\n",
    "    return cell_num"
   ]
  },
  {
   "cell_type": "code",
   "execution_count": 240,
   "id": "59b57b4f-7cd0-4080-981c-1dc875170bd7",
   "metadata": {},
   "outputs": [
    {
     "data": {
      "text/plain": [
       "<matplotlib.legend.Legend at 0x7f2596ea00d0>"
      ]
     },
     "execution_count": 240,
     "metadata": {},
     "output_type": "execute_result"
    },
    {
     "data": {
      "image/png": "[encoded data removed]",
      "text/plain": [
       "<Figure size 700x300 with 2 Axes>"
      ]
     },
     "metadata": {},
     "output_type": "display_data"
    }
   ],
   "source": [
    "fig, ax = plt.subplots(1, 2, figsize=(7, 3))\n",
    "max_val = 150\n",
    "n_hist = 8\n",
    "xrange = np.arange(0, max_val, int(max_val/n_hist))+int(max_val/n_hist)/2\n",
    "dist = np.histogram(branch_len+1, xrange-int(max_val/n_hist)/2)\n",
    "th_dist = [spx.est_mr.BranchLength(2, 0.1).prob(i) for i in xrange]\n",
    "ax[0].plot(xrange[:-1], dist[0]/sum(dist[0]), 'o-', mfc='none', c='black', ms=4, label='Data')\n",
    "ax[0].plot(xrange, th_dist/sum(th_dist), c='tab:grey',alpha=0.3, label='Theory')\n",
    "ax[0].fill_between(xrange, th_dist/sum(th_dist), color='tab:grey', alpha=0.3)\n",
    "ax[0].spines['right'].set_visible(False)\n",
    "ax[0].spines['top'].set_visible(False)\n",
    "ax[0].set_xlabel('Leaf-Progenitor distance')\n",
    "ax[0].set_ylabel('Density')\n",
    "ax[0].legend()\n",
    "\n",
    "\n",
    "alpha = alpha = p_xi(100, K, 200, *[0.5, 0.6, 0.2, 1e-2, t1, s1])\n",
    "alpha = alpha / sum(alpha)\n",
    "max_val = 150\n",
    "n_hist = 15\n",
    "mutdist = np.histogram(mutnum, np.arange(0, max_val, int(max_val/n_hist)))\n",
    "th_dist = np.zeros(max_val)\n",
    "for i, a in enumerate(alpha):\n",
    "    th_dist = th_dist + a*poisson(i*2).pmf(np.arange(max_val)+1)\n",
    "th_dist_x = []\n",
    "th_dist_y = []\n",
    "for i in range(n_hist):\n",
    "    th_dist_x.append(i*int(max_val/n_hist))\n",
    "    th_dist_y.append(np.sum(th_dist[i*int(max_val/n_hist):(i+1)*int(max_val/n_hist)]))\n",
    "ax[1].plot(mutdist[1][:-1], mutdist[0]/sum(mutdist[0]), 'o-', mfc='none', c='black', ms=4, label='Data')\n",
    "ax[1].plot(th_dist_x, th_dist_y, c='tab:grey',alpha=0.3, label='Theory')\n",
    "ax[1].fill_between(th_dist_x, th_dist_y, color='tab:grey', alpha=0.3)\n",
    "ax[1].spines['right'].set_visible(False)\n",
    "ax[1].spines['top'].set_visible(False)\n",
    "ax[1].set_xlabel('Leaf-root distance')\n",
    "ax[1].set_ylabel('Density')\n",
    "ax[1].legend()"
   ]
  },
  {
   "cell_type": "code",
   "execution_count": 264,
   "id": "24f0987c-1cef-4875-84f0-d001e9f64aed",
   "metadata": {},
   "outputs": [],
   "source": [
    "import pymc as pm\n",
    "import pytensor\n",
    "import pytensor.tensor as pt\n",
    "from scipy.stats import norm\n",
    "import arviz as az\n",
    "def my_loglike(theta, data, args):\n",
    "    '''\n",
    "    Likelihood of lr-dist\n",
    "\n",
    "    Args:\n",
    "        theta:\n",
    "            parameters, (r, a, s, u, s1)\n",
    "        data:\n",
    "            Observed lr dist\n",
    "        args:\n",
    "            paramteres, (time, initial_cell_number, prior_sigma)\n",
    "    Return:\n",
    "        float:\n",
    "            Sum of log-likelihood of given lr dist parameters\n",
    "    '''\n",
    "    T, t1, c0, sigma = args\n",
    "    r, a, s, u, s1 = theta\n",
    "    xt = p_xi(len(data), T, c0, r, a, s, u, t1, s1)\n",
    "    llh = norm(xt, sigma).logpdf(data).sum()\n",
    "    return llh\n",
    "\n",
    "class LogLike(pt.Op):\n",
    "    itypes = [pt.dvector]\n",
    "    otypes = [pt.dscalar]\n",
    "\n",
    "    def __init__(self, loglike, data, args):\n",
    "        \n",
    "        # add inputs as class attributes\n",
    "        self.likelihood = loglike\n",
    "        self.data = data\n",
    "        self.args = args\n",
    "\n",
    "    def perform(self, node, inputs, outputs):\n",
    "        # the method that is used when calling the Op\n",
    "        (theta,) = inputs  # this will contain my variables\n",
    " \n",
    "        # call the log-likelihood function\n",
    "        logl = self.likelihood(theta, self.data, self.args)\n",
    "\n",
    "        outputs[0][0] = np.array(logl)  # output the log-likelihood\n",
    "        \n",
    "def mcmc_inference(data, para_prior, T, t1, c0, sigma, draw=1000, tune=1000, chains=5):\n",
    "    '''\n",
    "    Mutation rate estimation using DE-MCMC\n",
    "    \n",
    "    Args:\n",
    "        data:\n",
    "            Observed lp-dist\n",
    "        data_prior:\n",
    "            mean of prior distributions of all parameters\n",
    "        T:\n",
    "            time of phylodynamics eqns\n",
    "        c0:\n",
    "            initial cell numbers\n",
    "        sigma:\n",
    "            variation of loss function\n",
    "        draw:\n",
    "            Number of smaples to draw\n",
    "        tune:\n",
    "            Number of iterations to tune\n",
    "        chain:\n",
    "            number of chains to sample\n",
    "    '''\n",
    "    logl = LogLike(my_loglike, data, (T, t1, c0, sigma))\n",
    "    rh, ah, sh, uh, s1h = para_prior\n",
    "    with pm.Model() as model:\n",
    "        r = pm.TruncatedNormal('r', mu=rh, sigma=0.1, lower=0, upper=5, initval=rh)\n",
    "        a = pm.TruncatedNormal('a', mu=ah, sigma=0.1, lower=0.5, upper=1, initval=ah)\n",
    "        s = pm.TruncatedNormal('s', mu=sh, sigma=0.1, lower=0, upper=0.5, initval=sh)\n",
    "        s1 = pm.TruncatedNormal('s1', mu=s1h, sigma=0.1, lower=-0.5, upper=0.5, initval=s1h)\n",
    "        u = pm.Beta('u', alpha=1, beta=1/uh-1, initval=uh)\n",
    "        theta = pt.as_tensor_variable([r, a, s, u, s1])\n",
    "        pm.Potential(\"likelihood\", logl(theta))\n",
    "        idata = pm.sample(draw, tune=tune, step=pm.DEMetropolis(), chains=chains)\n",
    "    return idata\n",
    "\n"
   ]
  },
  {
   "cell_type": "code",
   "execution_count": 266,
   "id": "41bd2ffa-cc0e-482a-ac6a-12c9b9c787d3",
   "metadata": {},
   "outputs": [
    {
     "name": "stderr",
     "output_type": "stream",
     "text": [
      "Population sampling (5 chains)\n",
      "DEMetropolis: [r, a, s, s1, u]\n",
      "/home/wangkun/miniconda3/lib/python3.9/site-packages/pymc/sampling/population.py:84: UserWarning: DEMetropolis should be used with more chains than dimensions! (The model has 5 dimensions.)\n",
      "  warn_population_size(\n",
      "Attempting to parallelize chains to all cores. You can turn this off with `pm.sample(cores=1)`.\n"
     ]
    },
    {
     "data": {
      "text/html": [
       "\n",
       "<style>\n",
       "    /* Turns off some styling */\n",
       "    progress {\n",
       "        /* gets rid of default border in Firefox and Opera. */\n",
       "        border: none;\n",
       "        /* Needs to be in here for Safari polyfill so background images work as expected. */\n",
       "        background-size: auto;\n",
       "    }\n",
       "    progress:not([value]), progress:not([value])::-webkit-progress-bar {\n",
       "        background: repeating-linear-gradient(45deg, #7e7e7e, #7e7e7e 10px, #5c5c5c 10px, #5c5c5c 20px);\n",
       "    }\n",
       "    .progress-bar-interrupted, .progress-bar-interrupted::-webkit-progress-bar {\n",
       "        background: #F44336;\n",
       "    }\n",
       "</style>\n"
      ],
      "text/plain": [
       "<IPython.core.display.HTML object>"
      ]
     },
     "metadata": {},
     "output_type": "display_data"
    },
    {
     "data": {
      "text/html": [
       "\n",
       "    <div>\n",
       "      <progress value='5' class='' max='5' style='width:300px; height:20px; vertical-align: middle;'></progress>\n",
       "      100.00% [5/5 00:00&lt;00:00]\n",
       "    </div>\n",
       "    "
      ],
      "text/plain": [
       "<IPython.core.display.HTML object>"
      ]
     },
     "metadata": {},
     "output_type": "display_data"
    },
    {
     "data": {
      "text/html": [
       "\n",
       "<style>\n",
       "    /* Turns off some styling */\n",
       "    progress {\n",
       "        /* gets rid of default border in Firefox and Opera. */\n",
       "        border: none;\n",
       "        /* Needs to be in here for Safari polyfill so background images work as expected. */\n",
       "        background-size: auto;\n",
       "    }\n",
       "    progress:not([value]), progress:not([value])::-webkit-progress-bar {\n",
       "        background: repeating-linear-gradient(45deg, #7e7e7e, #7e7e7e 10px, #5c5c5c 10px, #5c5c5c 20px);\n",
       "    }\n",
       "    .progress-bar-interrupted, .progress-bar-interrupted::-webkit-progress-bar {\n",
       "        background: #F44336;\n",
       "    }\n",
       "</style>\n"
      ],
      "text/plain": [
       "<IPython.core.display.HTML object>"
      ]
     },
     "metadata": {},
     "output_type": "display_data"
    },
    {
     "data": {
      "text/html": [
       "\n",
       "    <div>\n",
       "      <progress value='2000' class='' max='2000' style='width:300px; height:20px; vertical-align: middle;'></progress>\n",
       "      100.00% [2000/2000 03:57&lt;00:00]\n",
       "    </div>\n",
       "    "
      ],
      "text/plain": [
       "<IPython.core.display.HTML object>"
      ]
     },
     "metadata": {},
     "output_type": "display_data"
    },
    {
     "name": "stderr",
     "output_type": "stream",
     "text": [
      "Sampling 5 chains for 1_000 tune and 1_000 draw iterations (5_000 + 5_000 draws total) took 238 seconds.\n",
      "The rhat statistic is larger than 1.01 for some parameters. This indicates problems during sampling. See https://arxiv.org/abs/1903.08008 for details\n",
      "The effective sample size per chain is smaller than 100 for some parameters.  A higher number is needed for reliable rhat and ess computation. See https://arxiv.org/abs/1903.08008 for details\n"
     ]
    }
   ],
   "source": [
    "idata = mcmc_inference(gen_num, (r,a,s,u,s1), T=K, t1=t1, c0=200, sigma=100)"
   ]
  },
  {
   "cell_type": "code",
   "execution_count": 267,
   "id": "a4f01766-fb46-4955-ae65-eef87ec08cc8",
   "metadata": {},
   "outputs": [
    {
     "data": {
      "text/html": [
       "<div>\n",
       "<style scoped>\n",
       "    .dataframe tbody tr th:only-of-type {\n",
       "        vertical-align: middle;\n",
       "    }\n",
       "\n",
       "    .dataframe tbody tr th {\n",
       "        vertical-align: top;\n",
       "    }\n",
       "\n",
       "    .dataframe thead th {\n",
       "        text-align: right;\n",
       "    }\n",
       "</style>\n",
       "<table border=\"1\" class=\"dataframe\">\n",
       "  <thead>\n",
       "    <tr style=\"text-align: right;\">\n",
       "      <th></th>\n",
       "      <th>mean</th>\n",
       "      <th>sd</th>\n",
       "      <th>hdi_3%</th>\n",
       "      <th>hdi_97%</th>\n",
       "      <th>mcse_mean</th>\n",
       "      <th>mcse_sd</th>\n",
       "      <th>ess_bulk</th>\n",
       "      <th>ess_tail</th>\n",
       "      <th>r_hat</th>\n",
       "    </tr>\n",
       "  </thead>\n",
       "  <tbody>\n",
       "    <tr>\n",
       "      <th>r</th>\n",
       "      <td>0.410</td>\n",
       "      <td>0.011</td>\n",
       "      <td>0.390</td>\n",
       "      <td>0.432</td>\n",
       "      <td>0.001</td>\n",
       "      <td>0.001</td>\n",
       "      <td>132.0</td>\n",
       "      <td>295.0</td>\n",
       "      <td>1.03</td>\n",
       "    </tr>\n",
       "    <tr>\n",
       "      <th>a</th>\n",
       "      <td>0.615</td>\n",
       "      <td>0.004</td>\n",
       "      <td>0.608</td>\n",
       "      <td>0.623</td>\n",
       "      <td>0.000</td>\n",
       "      <td>0.000</td>\n",
       "      <td>262.0</td>\n",
       "      <td>398.0</td>\n",
       "      <td>1.01</td>\n",
       "    </tr>\n",
       "    <tr>\n",
       "      <th>s</th>\n",
       "      <td>0.193</td>\n",
       "      <td>0.040</td>\n",
       "      <td>0.119</td>\n",
       "      <td>0.265</td>\n",
       "      <td>0.004</td>\n",
       "      <td>0.003</td>\n",
       "      <td>117.0</td>\n",
       "      <td>386.0</td>\n",
       "      <td>1.03</td>\n",
       "    </tr>\n",
       "    <tr>\n",
       "      <th>s1</th>\n",
       "      <td>-0.123</td>\n",
       "      <td>0.070</td>\n",
       "      <td>-0.245</td>\n",
       "      <td>0.018</td>\n",
       "      <td>0.006</td>\n",
       "      <td>0.004</td>\n",
       "      <td>156.0</td>\n",
       "      <td>485.0</td>\n",
       "      <td>1.02</td>\n",
       "    </tr>\n",
       "    <tr>\n",
       "      <th>u</th>\n",
       "      <td>0.013</td>\n",
       "      <td>0.007</td>\n",
       "      <td>0.002</td>\n",
       "      <td>0.026</td>\n",
       "      <td>0.000</td>\n",
       "      <td>0.000</td>\n",
       "      <td>230.0</td>\n",
       "      <td>536.0</td>\n",
       "      <td>1.02</td>\n",
       "    </tr>\n",
       "  </tbody>\n",
       "</table>\n",
       "</div>"
      ],
      "text/plain": [
       "     mean     sd  hdi_3%  hdi_97%  mcse_mean  mcse_sd  ess_bulk  ess_tail  \\\n",
       "r   0.410  0.011   0.390    0.432      0.001    0.001     132.0     295.0   \n",
       "a   0.615  0.004   0.608    0.623      0.000    0.000     262.0     398.0   \n",
       "s   0.193  0.040   0.119    0.265      0.004    0.003     117.0     386.0   \n",
       "s1 -0.123  0.070  -0.245    0.018      0.006    0.004     156.0     485.0   \n",
       "u   0.013  0.007   0.002    0.026      0.000    0.000     230.0     536.0   \n",
       "\n",
       "    r_hat  \n",
       "r    1.03  \n",
       "a    1.01  \n",
       "s    1.03  \n",
       "s1   1.02  \n",
       "u    1.02  "
      ]
     },
     "execution_count": 267,
     "metadata": {},
     "output_type": "execute_result"
    }
   ],
   "source": [
    "az.summary(idata)"
   ]
  },
  {
   "cell_type": "code",
   "execution_count": null,
   "id": "5a0bd22f-ddae-441b-b977-1e3de461b6b0",
   "metadata": {},
   "outputs": [],
   "source": []
  },
  {
   "cell_type": "code",
   "execution_count": null,
   "id": "035dbf92-e75a-4a01-8675-3c3b63bc4780",
   "metadata": {},
   "outputs": [],
   "source": []
  }
 ],
 "metadata": {
  "kernelspec": {
   "display_name": "Python 3 (ipykernel)",
   "language": "python",
   "name": "python3"
  },
  "language_info": {
   "codemirror_mode": {
    "name": "ipython",
    "version": 3
   },
   "file_extension": ".py",
   "mimetype": "text/x-python",
   "name": "python",
   "nbconvert_exporter": "python",
   "pygments_lexer": "ipython3",
   "version": "3.9.12"
  }
 },
 "nbformat": 4,
 "nbformat_minor": 5
}
